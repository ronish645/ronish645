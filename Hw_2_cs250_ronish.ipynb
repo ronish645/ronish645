{
  "nbformat": 4,
  "nbformat_minor": 0,
  "metadata": {
    "colab": {
      "provenance": [],
      "collapsed_sections": [],
      "authorship_tag": "ABX9TyNYfWlAsmpUlGLmjh9oiruL",
      "include_colab_link": true
    },
    "kernelspec": {
      "name": "python3",
      "display_name": "Python 3"
    },
    "language_info": {
      "name": "python"
    }
  },
  "cells": [
    {
      "cell_type": "markdown",
      "metadata": {
        "id": "view-in-github",
        "colab_type": "text"
      },
      "source": [
        "<a href=\"https://colab.research.google.com/github/ronish645/ronish645/blob/main/Hw_2_cs250_ronish.ipynb\" target=\"_parent\"><img src=\"https://colab.research.google.com/assets/colab-badge.svg\" alt=\"Open In Colab\"/></a>"
      ]
    },
    {
      "cell_type": "code",
      "execution_count": null,
      "metadata": {
        "id": "I_eWfkTIcvf0",
        "colab": {
          "base_uri": "https://localhost:8080/"
        },
        "outputId": "3abf4c55-49b4-4979-c44f-ac8f30beed1b"
      },
      "outputs": [
        {
          "output_type": "stream",
          "name": "stdout",
          "text": [
            "Please enter the text:sourpuss\n",
            "Please enter the value of the key:2\n",
            "Press e(to encrypt) or d(to decrypt: e\n",
            "The input: sourpuss ,is coded as:  uqwtrwuu\n"
          ]
        }
      ],
      "source": [
        "def main():\n",
        "    word = input(\"Please enter the text:\").lower()\n",
        "    Value = int(input(\"Please enter the value of the key:\")) # use int(), don't eval unless you read more about it\n",
        "    En_or_De = input(\"Press e(to encrypt) or d(to decrypt: \")\n",
        "    coded_message = \"\"\n",
        "\n",
        "    for ch in word:\n",
        "     if En_or_De == \"e\":\n",
        "            coded_message += chr((ord(ch) - 97 + Value)%26 + 97)\n",
        "     elif En_or_De ==\"d\":\n",
        "            coded_message += chr((ord(ch) - 97 - Value)%26 + 97)\n",
        "    \n",
        "    print(\"The input:\", word, \",\" \"is coded as: \", coded_message)\n",
        "main()\n",
        "   "
      ]
    },
    {
      "cell_type": "code",
      "source": [
        "lst = [4, 2, 5, 6]\n",
        "i = [str(integer) for integer in lst]\n",
        "a = \"\".join(i)\n",
        "res = int(a)\n",
        "a=1\n",
        "sum=res+1\n",
        "print(sum)\n",
        "num = sum\n",
        "print(\"The number is \" + str(num))\n",
        "res1 = [int(x) for x in str(num)]\n",
        "print(\"List = \" + str(res1))\n",
        "\n"
      ],
      "metadata": {
        "id": "moNvrg4Lc3A8",
        "colab": {
          "base_uri": "https://localhost:8080/"
        },
        "outputId": "9064c805-1837-4c01-9177-7004f8498169"
      },
      "execution_count": null,
      "outputs": [
        {
          "output_type": "stream",
          "name": "stdout",
          "text": [
            "4257\n",
            "The number is 4257\n",
            "List = [4, 2, 5, 7]\n"
          ]
        }
      ]
    },
    {
      "cell_type": "code",
      "source": [
        "def add_binary_nums(x,y):\n",
        "  max_len = max(len(x), len(y))\n",
        "\n",
        "  x = x.zfill(max_len)  \n",
        "  y = y.zfill(max_len)\n",
        "\n",
        "  result = ''\n",
        "  carryover = 0\n",
        "  for i in range(max_len-1, -1, -1):\n",
        "     r = carryover\n",
        "     r += 1 if x[i] == '1' else 0\n",
        "     r += 1 if y[i] == '1' else 0\n",
        "     result = ('1' if r % 2 == 1 else '0') + result\n",
        "     carryover = 0 if r < 2 else 1       \n",
        "\n",
        "  if carryover !=0 : result = '1' + result\n",
        "  return result.zfill(max_len)\n",
        "    \n",
        "print(add_binary_nums('1011', '10'))\n",
        "     "
      ],
      "metadata": {
        "id": "ai3iBOKYc-ix",
        "colab": {
          "base_uri": "https://localhost:8080/"
        },
        "outputId": "a4c7c83d-1928-4a94-9044-f1f1e55af2ed"
      },
      "execution_count": null,
      "outputs": [
        {
          "output_type": "stream",
          "name": "stdout",
          "text": [
            "1101\n"
          ]
        }
      ]
    },
    {
      "cell_type": "code",
      "source": [
        "import math\n",
        "n = eval(input(\"The input is: \"))\n",
        "def div(ron):\n",
        " sum = 0;\n",
        " for i in range(1,ron):\n",
        "  if(ron%i==0):\n",
        "   sum=sum+i\n",
        " return sum;\n",
        "def amicable(iteration):\n",
        " final = 0\n",
        " for i in range(1,iteration):\n",
        "  currentDivs = div(int(i));\n",
        "  resultDivs = div(currentDivs);\n",
        "  if (i == resultDivs and currentDivs != resultDivs):\n",
        "   if(i > n):\n",
        "    print(i)\n",
        "    final = i\n",
        "    return i\n",
        "    break\n",
        " if(final == 0):\n",
        "   amicable(iteration*2)\n",
        "def amc(n):\n",
        "  final_result = amicable(1500);\n",
        "amc(n)\n"
      ],
      "metadata": {
        "id": "56BAetlzdDDb",
        "colab": {
          "base_uri": "https://localhost:8080/"
        },
        "outputId": "fe8a150f-608e-4723-c50e-29e240b05bee"
      },
      "execution_count": null,
      "outputs": [
        {
          "output_type": "stream",
          "name": "stdout",
          "text": [
            "The input is: 5000\n",
            "5020\n"
          ]
        }
      ]
    }
  ]
}