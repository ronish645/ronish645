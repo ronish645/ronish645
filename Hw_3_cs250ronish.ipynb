{
  "nbformat": 4,
  "nbformat_minor": 0,
  "metadata": {
    "colab": {
      "provenance": [],
      "authorship_tag": "ABX9TyN5fQsGSA76K2Sw3bgywZgW",
      "include_colab_link": true
    },
    "kernelspec": {
      "name": "python3",
      "display_name": "Python 3"
    },
    "language_info": {
      "name": "python"
    }
  },
  "cells": [
    {
      "cell_type": "markdown",
      "metadata": {
        "id": "view-in-github",
        "colab_type": "text"
      },
      "source": [
        "<a href=\"https://colab.research.google.com/github/ronish645/ronish645/blob/main/Hw_3_cs250ronish.ipynb\" target=\"_parent\"><img src=\"https://colab.research.google.com/assets/colab-badge.svg\" alt=\"Open In Colab\"/></a>"
      ]
    },
    {
      "cell_type": "code",
      "execution_count": null,
      "metadata": {
        "id": "u4NiinSyhIcZ"
      },
      "outputs": [],
      "source": [
        "def approx_e(iter):       #1\n",
        "    e = 0\n",
        "    for i in range(iter):\n",
        "        e += 1 / math.factorial(i)\n",
        "    return e\n",
        "import math\n",
        "\n",
        "e = approx_e(100)\n",
        "print(e)\n",
        "\n"
      ]
    },
    {
      "cell_type": "code",
      "source": [
        "import math              #2\n",
        "def squares(seq):\n",
        "  squares = []\n",
        "  for n in seq:\n",
        "   if math.isqrt(n)**2 == n:\n",
        "    squares.append(n)\n",
        "  return squares\n",
        "seq = [49, 8, 2, 1, 102]\n",
        "print(squares(seq))            # prints [49, 1]\n",
        "\n",
        "seq = [500, 30]\n",
        "print(squares(seq))            # prints []\n"
      ],
      "metadata": {
        "id": "hwr_52QxhiA8"
      },
      "execution_count": null,
      "outputs": []
    },
    {
      "cell_type": "code",
      "source": [
        "def add_this_many(x, el, lst):      #3\n",
        "  count = lst.count(x)\n",
        "  for i in range(count):\n",
        "   lst.append(el)\n",
        "lst = [1, 2, 4, 3, 1]\n",
        "add_this_many(1, 5, lst)\n",
        "print(lst)\n"
      ],
      "metadata": {
        "id": "Hcw9nKLvjYWH"
      },
      "execution_count": null,
      "outputs": []
    }
  ]
}